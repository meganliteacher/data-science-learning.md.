{
 "cells": [
  {
   "cell_type": "markdown",
   "id": "7eba80c7-c1f0-49f0-bbc5-3ff3b3225682",
   "metadata": {},
   "source": [
    "In this notebook, Data Science Tools and Ecosystem are summarized."
   ]
  },
  {
   "cell_type": "markdown",
   "id": "7e020768-2781-4666-91b8-97b2e7f78ee5",
   "metadata": {},
   "source": [
    "Some of the popular languages that Data Scientists use are:\n",
    "R,\n",
    "Python,\n",
    "JAVA."
   ]
  },
  {
   "cell_type": "markdown",
   "id": "ca5cbc19-0f64-49a4-b00b-86afb627ecf4",
   "metadata": {},
   "source": [
    "Some of the commonly used libraries used by Data Scientists include:\n",
    "NumPy,\n",
    "Pandas,\n",
    "Scikit-learn."
   ]
  },
  {
   "cell_type": "markdown",
   "id": "ac11bf08-a713-4cd4-88c9-066ff528cdb3",
   "metadata": {},
   "source": [
    "| Data Science Tools |\n",
    "|--------------------|\n",
    "| Jupyter Notebook   |\n",
    "| RStudio            |\n",
    "| VS Code            |"
   ]
  },
  {
   "cell_type": "markdown",
   "id": "9dcda07f-f329-402d-82df-28a7e8ee5288",
   "metadata": {},
   "source": [
    "Below are a few examples of evaluating arithmetic expressions in Python:\n",
    "addition,\n",
    "subtraction,\n",
    "multipication, and\n",
    "division."
   ]
  },
  {
   "cell_type": "markdown",
   "id": "3651c4ae-2d50-4a3c-8278-17ab9c608c6e",
   "metadata": {},
   "source": [
    "This a simple arithmetic expression to mutiply then add integers"
   ]
  },
  {
   "cell_type": "code",
   "execution_count": 3,
   "id": "af585789-58e3-4c3d-bcdc-f92b6e3e7c1a",
   "metadata": {},
   "outputs": [
    {
     "data": {
      "text/plain": [
       "17"
      ]
     },
     "execution_count": 3,
     "metadata": {},
     "output_type": "execute_result"
    }
   ],
   "source": [
    "(3*4)+5"
   ]
  },
  {
   "cell_type": "markdown",
   "id": "e0dae6cd-0fd2-49b8-8f1d-3206947a0d1f",
   "metadata": {},
   "source": [
    "This will convert 200 minutes to hours by diving by 60"
   ]
  },
  {
   "cell_type": "code",
   "execution_count": 2,
   "id": "0d73f4b7-1f6f-4a81-a241-09cdd53008be",
   "metadata": {},
   "outputs": [
    {
     "data": {
      "text/plain": [
       "3.3333333333333335"
      ]
     },
     "execution_count": 2,
     "metadata": {},
     "output_type": "execute_result"
    }
   ],
   "source": [
    "200/60"
   ]
  },
  {
   "cell_type": "markdown",
   "id": "d7ce34f5-b219-4d6a-b3b8-60d04ecd72eb",
   "metadata": {},
   "source": [
    "**Objectives:**  \n",
    "- List popular languages for Data Science.  \n",
    "- Identify common libraries used by Data Scientists.  \n",
    "- Demonstrate how to evaluate arithmetic expressions in Python.  \n",
    "- Create and format tables in Markdown cells.  \n",
    "- Introduce key tools for Data Science development environments. "
   ]
  },
  {
   "cell_type": "markdown",
   "id": "47a320e3-8dc5-430e-8e85-a8d3b3884b10",
   "metadata": {},
   "source": [
    "## Author  \n",
    "Megan"
   ]
  }
 ],
 "metadata": {
  "kernelspec": {
   "display_name": "Python 3 (ipykernel)",
   "language": "python",
   "name": "python3"
  },
  "language_info": {
   "codemirror_mode": {
    "name": "ipython",
    "version": 3
   },
   "file_extension": ".py",
   "mimetype": "text/x-python",
   "name": "python",
   "nbconvert_exporter": "python",
   "pygments_lexer": "ipython3",
   "version": "3.12.8"
  }
 },
 "nbformat": 4,
 "nbformat_minor": 5
}
